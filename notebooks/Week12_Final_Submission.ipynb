#Setup
import sys
sys.path.append("/content/finance-risk-analysis")  

import pandas as pd
import matplotlib.pyplot as plt

from src.data.make_dataset import load_data, compute_log_return
from src.features.build_features import rolling_volatility
from src.models.train_model import train_change_point_model
from src.models.predict_model import get_change_point_date, quantify_shift
from src.visualization.visualize import plot_prices, plot_log_returns

# -------------------------
# 2 Load & Prepare Data
# -------------------------
df = load_data("/content/finance-risk-analysis/data/raw/oil_prices.csv")
df = compute_log_return(df)
df = df.dropna(subset=['log_return'])
display(df.head())

# -------------------------
# 3 Plot Raw Prices
# -------------------------
plot_prices(df)

# -------------------------
# 4 Train Bayesian Change Point Model
# -------------------------
log_returns = df['log_return'].values
trace = train_change_point_model(log_returns)
print("✅ Bayesian Change Point Model trained")

# -------------------------
# 5 Extract Change Point Date
# -------------------------
change_point = get_change_point_date(trace, df)
print(f"🔴 Most probable change point date: {change_point}")

# -------------------------
# 6 Quantify Impact of Change
# -------------------------
before, after, shift = quantify_shift(df, change_point)
print(f"Mean log return before: {before:.5f}")
print(f"Mean log return after: {after:.5f}")
print(f"Shift in mean log return: {shift:.5f}")

# -------------------------
# 7 Load Events
# -------------------------
events = pd.read_csv("/content/finance-risk-analysis/data/raw/events.csv", parse_dates=['date'])
display(events.head())

# -------------------------
# 8 Plot Log Returns with Change Point & Events
# -------------------------
plot_log_returns(df, change_point=change_point, events=events)
# If the CSV column is 'vPrice'
df = load_data("/content/finance-risk-analysis/data/raw/oil_prices.csv")# Then compute log return
df = compute_log_return(df)
df = df.dropna(subset=['log_return'])
display(df.head())

print(df['log_return'])

# -------------------------
# 9 Calculate Rolling Volatility (Safe Version)
# -------------------------
volatility_series = rolling_volatility(df)  # might return Series

# Ensure it's a DataFrame
if isinstance(volatility_series, pd.Series):
    df['volatility_30d'] = volatility_series
else:
    df = volatility_series

# Drop NaNs safely
df_plot = df.dropna(subset=['volatility_30d'])

plt.figure(figsize=(14,6))
plt.plot(df_plot.index, df_plot['volatility_30d'], color='purple')
plt.title("30-Day Rolling Volatility of Brent Oil Log Returns")
plt.xlabel("Date")
plt.ylabel("Volatility")
plt.tight_layout()
plt.show()

# -------------------------
# 10 Summary for Report
# -------------------------

from IPython.display import display

# Display final message
display(" Week 12 Final Submission Complete")

# Display key results
display(
    f"Key Results:\n"
    f"- Most probable change point date: {change_point}\n"
    f"- Mean log return before change: {before:.5f}\n"
    f"- Mean log return after change: {after:.5f}\n"
    f"- Shift in mean log return: {shift:.5f}\n"
    f"- 30-Day Rolling Volatility calculated successfully"
)

# Also print to console for clarity
print("✅ Week 12 Final Submission Complete")
print(
    f"Key Results:\n"
    f"- Most probable change point date: {change_point}\n"
    f"- Mean log return before change: {before:.5f}\n"
    f"- Mean log return after change: {after:.5f}\n"
    f"- Shift in mean log return: {shift:.5f}\n"
    f"- 30-Day Rolling Volatility calculated successfully"
)
